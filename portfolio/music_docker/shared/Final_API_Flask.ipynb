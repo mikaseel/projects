{
 "cells": [
  {
   "cell_type": "markdown",
   "metadata": {},
   "source": [
    "# Final Project"
   ]
  },
  {
   "cell_type": "markdown",
   "metadata": {},
   "source": [
    "## Creating Web APIs with Flask"
   ]
  },
  {
   "cell_type": "code",
   "execution_count": 1,
   "metadata": {},
   "outputs": [],
   "source": [
    "import requests\n",
    "import json"
   ]
  },
  {
   "attachments": {},
   "cell_type": "markdown",
   "metadata": {},
   "source": [
    "## Use the GET route to return all genre_results of the data stored in your PostgreSQL table. "
   ]
  },
  {
   "cell_type": "code",
   "execution_count": 2,
   "metadata": {},
   "outputs": [
    {
     "name": "stdout",
     "output_type": "stream",
     "text": [
      "Response Status Code: 200\n",
      "[{'age_mean': 26.22641509433962, 'anxiety_mean': 4.886792452830188, 'count': 53, 'depression_mean': 4.0754716981132075, 'effects_mean': 0.7169811320754716, 'fav_genre': 'Classical', 'hours_mean': 2.8820754716981134, 'id': 4285884477, 'insomnia_mean': 3.792452830188679}, {'age_mean': 25.36, 'anxiety_mean': 5.4, 'count': 25, 'depression_mean': 4.32, 'effects_mean': 0.8, 'fav_genre': 'Country', 'hours_mean': 3.42, 'id': 957831062, 'insomnia_mean': 2.72}, {'age_mean': 22.083333333333332, 'anxiety_mean': 5.361111111111111, 'count': 36, 'depression_mean': 5.111111111111111, 'effects_mean': 0.8333333333333334, 'fav_genre': 'EDM', 'hours_mean': 4.666666666666667, 'id': 100270, 'insomnia_mean': 3.9444444444444446}, {'age_mean': 25.96551724137931, 'anxiety_mean': 6.689655172413793, 'count': 29, 'depression_mean': 5.137931034482759, 'effects_mean': 0.7931034482758621, 'fav_genre': 'Folk', 'hours_mean': 3.296551724137931, 'id': 3148808, 'insomnia_mean': 3.7241379310344827}, {'age_mean': 55.666666666666664, 'anxiety_mean': 4.833333333333333, 'count': 6, 'depression_mean': 2.6666666666666665, 'effects_mean': 1.0, 'fav_genre': 'Gospel', 'hours_mean': 2.375, 'id': 3054850220, 'insomnia_mean': 5.333333333333333}, {'age_mean': 23.441176470588236, 'anxiety_mean': 6.117647058823529, 'count': 34, 'depression_mean': 5.882352941176471, 'effects_mean': 0.8823529411764706, 'fav_genre': 'Hip hop', 'hours_mean': 3.9558823529411766, 'id': 921654328, 'insomnia_mean': 3.4705882352941178}, {'age_mean': 25.45, 'anxiety_mean': 5.9, 'count': 20, 'depression_mean': 4.5, 'effects_mean': 0.8, 'fav_genre': 'Jazz', 'hours_mean': 5.425, 'id': 3254967, 'insomnia_mean': 3.85}, {'age_mean': 18.304347826086957, 'anxiety_mean': 6.521739130434782, 'count': 23, 'depression_mean': 4.304347826086956, 'effects_mean': 0.8260869565217391, 'fav_genre': 'K pop', 'hours_mean': 4.260869565217392, 'id': 99881244, 'insomnia_mean': 3.5652173913043477}, {'age_mean': 17.5, 'anxiety_mean': 5.0, 'count': 2, 'depression_mean': 4.5, 'effects_mean': 0.5, 'fav_genre': 'Latin', 'hours_mean': 8.5, 'id': 102744836, 'insomnia_mean': 4.5}, {'age_mean': 22.1, 'anxiety_mean': 6.1, 'count': 10, 'depression_mean': 6.6, 'effects_mean': 1.0, 'fav_genre': 'Lofi', 'hours_mean': 4.2, 'id': 3327366, 'insomnia_mean': 5.6}, {'age_mean': 25.113636363636363, 'anxiety_mean': 5.761363636363637, 'count': 88, 'depression_mean': 5.068181818181818, 'effects_mean': 0.7613636363636364, 'fav_genre': 'Metal', 'hours_mean': 3.596590909090909, 'id': 103787271, 'insomnia_mean': 4.556818181818182}, {'age_mean': 23.25438596491228, 'anxiety_mean': 6.074561403508772, 'count': 114, 'depression_mean': 4.4868421052631575, 'effects_mean': 0.7105263157894737, 'fav_genre': 'Pop', 'hours_mean': 2.9078947368421053, 'id': 111185, 'insomnia_mean': 3.3684210526315788}, {'age_mean': 25.34285714285714, 'anxiety_mean': 5.171428571428572, 'count': 35, 'depression_mean': 3.8285714285714287, 'effects_mean': 0.7428571428571429, 'fav_genre': 'R&B', 'hours_mean': 3.4714285714285715, 'id': 110830, 'insomnia_mean': 2.8857142857142857}, {'age_mean': 21.772727272727273, 'anxiety_mean': 5.090909090909091, 'count': 22, 'depression_mean': 4.0, 'effects_mean': 0.7272727272727273, 'fav_genre': 'Rap', 'hours_mean': 5.318181818181818, 'id': 112673, 'insomnia_mean': 2.272727272727273}, {'age_mean': 28.026881720430108, 'anxiety_mean': 6.134408602150538, 'count': 186, 'depression_mean': 5.271505376344086, 'effects_mean': 0.6397849462365591, 'fav_genre': 'Rock', 'hours_mean': 3.659677419354839, 'id': 3506021, 'insomnia_mean': 3.900537634408602}, {'age_mean': 21.59090909090909, 'anxiety_mean': 5.886363636363637, 'count': 44, 'depression_mean': 4.4772727272727275, 'effects_mean': 0.5, 'fav_genre': 'Video game music', 'hours_mean': 2.914772727272727, 'id': 3912124732, 'insomnia_mean': 4.0}]\n"
     ]
    }
   ],
   "source": [
    "### Sending a GET request for postgres data\n",
    "\n",
    "# Set the API endpoint URL\n",
    "url = 'http://localhost:8001/api/get_pg_data'\n",
    "\n",
    "# Send the GET request to the API endpoint\n",
    "response = requests.get(url)\n",
    "\n",
    "# Print the response status code and content\n",
    "print('Response Status Code:', response.status_code)\n",
    "\n",
    "print(json.loads(response.content))"
   ]
  },
  {
   "cell_type": "markdown",
   "metadata": {},
   "source": [
    "If you get error: port 8001 is in use by another program. Either identify and stop that program, or start the server with a different port. Then run below in terminal:\n",
    "\n",
    "kill $(pgrep -f flask)"
   ]
  },
  {
   "cell_type": "markdown",
   "metadata": {},
   "source": [
    "Below is the corresponding query in SQL. "
   ]
  },
  {
   "cell_type": "code",
   "execution_count": 3,
   "metadata": {},
   "outputs": [
    {
     "name": "stdout",
     "output_type": "stream",
     "text": [
      "[{'id': 4285884477, 'fav_genre': 'Classical', 'age_mean': 26.22641509433962, 'hours_mean': 2.8820754716981134, 'effects_mean': 0.7169811320754716, 'anxiety_mean': 4.886792452830188, 'depression_mean': 4.0754716981132075, 'insomnia_mean': 3.792452830188679, 'count': 53}, {'id': 957831062, 'fav_genre': 'Country', 'age_mean': 25.36, 'hours_mean': 3.42, 'effects_mean': 0.8, 'anxiety_mean': 5.4, 'depression_mean': 4.32, 'insomnia_mean': 2.72, 'count': 25}, {'id': 100270, 'fav_genre': 'EDM', 'age_mean': 22.083333333333332, 'hours_mean': 4.666666666666667, 'effects_mean': 0.8333333333333334, 'anxiety_mean': 5.361111111111111, 'depression_mean': 5.111111111111111, 'insomnia_mean': 3.9444444444444446, 'count': 36}, {'id': 3148808, 'fav_genre': 'Folk', 'age_mean': 25.96551724137931, 'hours_mean': 3.296551724137931, 'effects_mean': 0.7931034482758621, 'anxiety_mean': 6.689655172413793, 'depression_mean': 5.137931034482759, 'insomnia_mean': 3.7241379310344827, 'count': 29}, {'id': 3054850220, 'fav_genre': 'Gospel', 'age_mean': 55.666666666666664, 'hours_mean': 2.375, 'effects_mean': 1.0, 'anxiety_mean': 4.833333333333333, 'depression_mean': 2.6666666666666665, 'insomnia_mean': 5.333333333333333, 'count': 6}, {'id': 921654328, 'fav_genre': 'Hip hop', 'age_mean': 23.441176470588236, 'hours_mean': 3.9558823529411766, 'effects_mean': 0.8823529411764706, 'anxiety_mean': 6.117647058823529, 'depression_mean': 5.882352941176471, 'insomnia_mean': 3.4705882352941178, 'count': 34}, {'id': 3254967, 'fav_genre': 'Jazz', 'age_mean': 25.45, 'hours_mean': 5.425, 'effects_mean': 0.8, 'anxiety_mean': 5.9, 'depression_mean': 4.5, 'insomnia_mean': 3.85, 'count': 20}, {'id': 99881244, 'fav_genre': 'K pop', 'age_mean': 18.304347826086957, 'hours_mean': 4.260869565217392, 'effects_mean': 0.8260869565217391, 'anxiety_mean': 6.521739130434782, 'depression_mean': 4.304347826086956, 'insomnia_mean': 3.5652173913043477, 'count': 23}, {'id': 102744836, 'fav_genre': 'Latin', 'age_mean': 17.5, 'hours_mean': 8.5, 'effects_mean': 0.5, 'anxiety_mean': 5.0, 'depression_mean': 4.5, 'insomnia_mean': 4.5, 'count': 2}, {'id': 3327366, 'fav_genre': 'Lofi', 'age_mean': 22.1, 'hours_mean': 4.2, 'effects_mean': 1.0, 'anxiety_mean': 6.1, 'depression_mean': 6.6, 'insomnia_mean': 5.6, 'count': 10}, {'id': 103787271, 'fav_genre': 'Metal', 'age_mean': 25.113636363636363, 'hours_mean': 3.596590909090909, 'effects_mean': 0.7613636363636364, 'anxiety_mean': 5.761363636363637, 'depression_mean': 5.068181818181818, 'insomnia_mean': 4.556818181818182, 'count': 88}, {'id': 111185, 'fav_genre': 'Pop', 'age_mean': 23.25438596491228, 'hours_mean': 2.9078947368421053, 'effects_mean': 0.7105263157894737, 'anxiety_mean': 6.074561403508772, 'depression_mean': 4.4868421052631575, 'insomnia_mean': 3.3684210526315788, 'count': 114}, {'id': 110830, 'fav_genre': 'R&B', 'age_mean': 25.34285714285714, 'hours_mean': 3.4714285714285715, 'effects_mean': 0.7428571428571429, 'anxiety_mean': 5.171428571428572, 'depression_mean': 3.8285714285714287, 'insomnia_mean': 2.8857142857142857, 'count': 35}, {'id': 112673, 'fav_genre': 'Rap', 'age_mean': 21.772727272727273, 'hours_mean': 5.318181818181818, 'effects_mean': 0.7272727272727273, 'anxiety_mean': 5.090909090909091, 'depression_mean': 4.0, 'insomnia_mean': 2.272727272727273, 'count': 22}, {'id': 3506021, 'fav_genre': 'Rock', 'age_mean': 28.026881720430108, 'hours_mean': 3.659677419354839, 'effects_mean': 0.6397849462365591, 'anxiety_mean': 6.134408602150538, 'depression_mean': 5.271505376344086, 'insomnia_mean': 3.900537634408602, 'count': 186}, {'id': 3912124732, 'fav_genre': 'Video game music', 'age_mean': 21.59090909090909, 'hours_mean': 2.914772727272727, 'effects_mean': 0.5, 'anxiety_mean': 5.886363636363637, 'depression_mean': 4.4772727272727275, 'insomnia_mean': 4.0, 'count': 44}]\n"
     ]
    }
   ],
   "source": [
    "import psycopg2\n",
    "\n",
    "## Connect to Database\n",
    "conn_ps = psycopg2.connect(\n",
    "    host=\"postgres\", # \"localhost\"\n",
    "    port=5432,\n",
    "    database=\"lexi\",\n",
    "    user=\"lexi\",\n",
    "    password=\"lexi123\")\n",
    "\n",
    "## Create a cursor object to interface with psql\n",
    "cur_ps = conn_ps.cursor()\n",
    "\n",
    "cur_ps.execute(\n",
    "    \"\"\"\n",
    "    SELECT * FROM music.genre_results\n",
    "    \"\"\")\n",
    "\n",
    "rows = cur_ps.fetchall()\n",
    "\n",
    "data = [{'id':row[0],'fav_genre':row[1],'age_mean':row[2],'hours_mean':row[3],'effects_mean':row[4],'anxiety_mean':row[5],'depression_mean':row[6],'insomnia_mean':row[7],'count':row[8]} \\\n",
    "        for row in rows]\n",
    "\n",
    "cur_ps.close()\n",
    "conn_ps.close()\n",
    "\n",
    "print ( data)\n",
    "\n"
   ]
  },
  {
   "cell_type": "markdown",
   "metadata": {},
   "source": [
    "## Below is another GET request containing a join of all the tables. "
   ]
  },
  {
   "cell_type": "code",
   "execution_count": 4,
   "metadata": {},
   "outputs": [
    {
     "name": "stdout",
     "output_type": "stream",
     "text": [
      "Response Status Code: 200\n",
      "[{'album_name': 'Night Visions', 'artist_name': 'Imagine Dragons', 'country': 'United States', 'fav_genre': 'EDM', 'track_name': 'Radioactive'}, {'album_name': 'Night Visions', 'artist_name': 'Imagine Dragons', 'country': 'United States', 'fav_genre': 'Pop', 'track_name': 'Radioactive'}, {'album_name': 'Night Visions', 'artist_name': 'Imagine Dragons', 'country': 'United States', 'fav_genre': 'Folk', 'track_name': 'Radioactive'}, {'album_name': 'Night Visions', 'artist_name': 'Imagine Dragons', 'country': 'United States', 'fav_genre': 'Rock', 'track_name': 'Radioactive'}, {'album_name': 'Sorry For Party Rocking', 'artist_name': 'LMFAO', 'country': 'United States', 'fav_genre': 'EDM', 'track_name': 'Party Rock Anthem'}, {'album_name': 'Sorry For Party Rocking', 'artist_name': 'LMFAO', 'country': 'United States', 'fav_genre': 'Pop', 'track_name': 'Party Rock Anthem'}, {'album_name': 'Sorry For Party Rocking', 'artist_name': 'LMFAO', 'country': 'United States', 'fav_genre': 'Rap', 'track_name': 'Party Rock Anthem'}, {'album_name': 'Sorry For Party Rocking', 'artist_name': 'LMFAO', 'country': 'United States', 'fav_genre': 'Rock', 'track_name': 'Party Rock Anthem'}, {'album_name': 'Sorry For Party Rocking', 'artist_name': 'LMFAO', 'country': 'United States', 'fav_genre': 'Hip hop', 'track_name': 'Party Rock Anthem'}, {'album_name': '21', 'artist_name': 'Adele', 'country': 'United Kingdom', 'fav_genre': 'R&B', 'track_name': 'Rolling in the Deep'}]\n"
     ]
    }
   ],
   "source": [
    "### Sending a GET request for postgres data\n",
    "\n",
    "# Set the API endpoint URL\n",
    "url = 'http://localhost:8001/api/get_alltablesjoined'\n",
    "\n",
    "# Send the GET request to the API endpoint\n",
    "response = requests.get(url)\n",
    "\n",
    "# Print the response status code and content\n",
    "print('Response Status Code:', response.status_code)\n",
    "\n",
    "print(json.loads(response.content))\n"
   ]
  },
  {
   "cell_type": "code",
   "execution_count": null,
   "metadata": {},
   "outputs": [],
   "source": []
  }
 ],
 "metadata": {
  "kernelspec": {
   "display_name": "Python 3 (ipykernel)",
   "language": "python",
   "name": "python3"
  },
  "language_info": {
   "codemirror_mode": {
    "name": "ipython",
    "version": 3
   },
   "file_extension": ".py",
   "mimetype": "text/x-python",
   "name": "python",
   "nbconvert_exporter": "python",
   "pygments_lexer": "ipython3",
   "version": "3.10.12"
  }
 },
 "nbformat": 4,
 "nbformat_minor": 4
}
